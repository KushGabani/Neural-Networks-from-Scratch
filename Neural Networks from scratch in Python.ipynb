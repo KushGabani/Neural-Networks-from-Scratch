{
 "cells": [
  {
   "cell_type": "markdown",
   "id": "vietnamese-automation",
   "metadata": {},
   "source": [
    "# A Single Neuron\n",
    "Let's say we have a single neuron, and there are three inputs to this neuron. As in most cases, when you initiliaze parameters in neural networks, our network will have weights initilalized randomly, and biases set as zero to start. Each input also needs a weight associated with it. Inputs are the data that we pass into the model to get desired outputs, while the weights are the parameters that we'll tune later on to get these results. Weights are one of the types of values that change inside the model during the training phase, along with biases that also change during training. The values for weights and biases are what get 'trained', and they are what makes a model actually work.\n",
    "\n",
    "These neurons sums each input multiplied by that input's weights, then adds the bias. All the neuron does is takes the fraction of inputs, where these fractions are the adjustable parameters, and adds another adjustable parameter - the bias - then outputs the result"
   ]
  },
  {
   "cell_type": "code",
   "execution_count": 1,
   "id": "related-underwear",
   "metadata": {},
   "outputs": [
    {
     "data": {
      "text/plain": [
       "2.3"
      ]
     },
     "execution_count": 1,
     "metadata": {},
     "output_type": "execute_result"
    }
   ],
   "source": [
    "inputs = [1, 2, 3]\n",
    "weights = [0.2, 0.8 ,-0.5]\n",
    "bias = 2\n",
    "\n",
    "output = (inputs[0] * weights[0] +\n",
    "          inputs[1] * weights[1] + \n",
    "          inputs[2] * weights[2] + bias)\n",
    "\n",
    "output"
   ]
  },
  {
   "cell_type": "markdown",
   "id": "wireless-england",
   "metadata": {},
   "source": [
    "# A Layer of Neurons\n",
    "Neural Networks typically have layers that consist of more than one neuron. Layers are nothing more than a group of neurons. Each neuron in a layer takes exactly the same input - the input given to the layer, but contains its own set of weights and its own bias, producing its own unique output. The layer's output is a set of each of these outputs - One per each neuron. Let's say we have a scenario with 3 neurons in a layers and 4 inputs."
   ]
  },
  {
   "cell_type": "code",
   "execution_count": 2,
   "id": "copyrighted-ozone",
   "metadata": {},
   "outputs": [
    {
     "data": {
      "text/plain": [
       "[4.8, 1.21, 2.385]"
      ]
     },
     "execution_count": 2,
     "metadata": {},
     "output_type": "execute_result"
    }
   ],
   "source": [
    "x = [1, 2, 3, 2.5]\n",
    "\n",
    "w1 = [0.2, 0.8, -0.5, 1]\n",
    "w2 = [0.5, -0.91, 0.26, -0.5]\n",
    "w3 = [-0.26, -0.27, 0.17, 0.87]\n",
    "\n",
    "b1, b2, b3 = 2, 3, 0.5\n",
    "\n",
    "outputs = [\n",
    "    x[0]*w1[0] +\n",
    "    x[1]*w1[1] + \n",
    "    x[2]*w1[2] + \n",
    "    x[3]*w1[3] + b1,\n",
    "    \n",
    "    x[0]*w2[0] +\n",
    "    x[1]*w2[1] + \n",
    "    x[2]*w2[2] + \n",
    "    x[3]*w2[3] + b2,\n",
    "    \n",
    "    x[0]*w3[0] +\n",
    "    x[1]*w3[1] + \n",
    "    x[2]*w3[2] + \n",
    "    x[3]*w3[3] + b3,\n",
    "]\n",
    "\n",
    "outputs"
   ]
  },
  {
   "cell_type": "markdown",
   "id": "finnish-million",
   "metadata": {},
   "source": [
    "In this code, we have three sets of weights and three biases, which define three neurons. Each neuron is connected to the same inputs. The difference is in the separate weights and bias that each neuron in the current layer has connections to every neuron from the previous layer. This is a very common type of neural network, but it should be noted that there is no requirement to fully connect everything like this. This would get very challenging to code using our current methods. Instead, we could use a loop to scale and handle dynamically-sized inputs and layers. We've turned the separate weight variables into a list of weights so we can iterate over them, and we changed the code to use loops instead of the hardcoded operations."
   ]
  },
  {
   "cell_type": "code",
   "execution_count": 3,
   "id": "vertical-format",
   "metadata": {},
   "outputs": [
    {
     "name": "stdout",
     "output_type": "stream",
     "text": [
      "[4.8, 1.21, 2.385]\n"
     ]
    }
   ],
   "source": [
    "inputs = [1, 2, 3, 2.5]\n",
    "weights = [\n",
    "    [0.2, 0.8, -0.5, 1],\n",
    "    [0.5, -0.91, 0.26, -0.5],\n",
    "    [-0.26, -0.27, 0.17, 0.87]\n",
    "]\n",
    "biases = [2, 3, 0.5]\n",
    "\n",
    "layer_outputs = []\n",
    "for weight, bias in zip(weights, biases):\n",
    "    output = 0\n",
    "    for x, w in zip(inputs, weight):\n",
    "        output += x*w\n",
    "    output += bias\n",
    "    layer_outputs.append(output)\n",
    "    \n",
    "print(layer_outputs)"
   ]
  },
  {
   "cell_type": "markdown",
   "id": "suspected-northern",
   "metadata": {},
   "source": [
    "# Tensors, Arrays and Vectors\n",
    "*What are Tensors?*\n",
    "\n",
    "Tensors are closely-related to arrays. I you interchange \n",
    "tensor/array/materix when it comes to machine learning, people probably won't give you too hard of a time. But there are subtle difference, and they are primarily either the context or attributes of the tensor object. To understand a tensor, let's compare and describe some of the other data containers in Python. An 2D array is said to be homologous if each array along a dimension is identically long, and this must be true for each dimension. A tensor object is an object that can be represented as an array"
   ]
  },
  {
   "cell_type": "markdown",
   "id": "senior-resolution",
   "metadata": {},
   "source": [
    "# A Layer of Neurons with NumPy\n",
    "We can see that these operations we performed above can be done by performing dot products on two variables i.e. inputs and weights, where inputs and weights are both vectors or arrays. First, let's start by representing a single neuron in numpy."
   ]
  },
  {
   "cell_type": "code",
   "execution_count": 4,
   "id": "becoming-symphony",
   "metadata": {},
   "outputs": [
    {
     "data": {
      "text/plain": [
       "4.8"
      ]
     },
     "execution_count": 4,
     "metadata": {},
     "output_type": "execute_result"
    }
   ],
   "source": [
    "import numpy as np\n",
    "inputs = [1.0, 2.0, 3.0, 2.5]\n",
    "weights = [0.2, 0.8, -0.5, 1.0]\n",
    "bias = 2.0\n",
    "\n",
    "outputs = np.dot(inputs, weights) + bias\n",
    "outputs"
   ]
  },
  {
   "cell_type": "markdown",
   "id": "detailed-small",
   "metadata": {},
   "source": [
    "Now we'd like to calculate the output of a layer of 3 neurons, which means the weights will be matrix or list of weights vectors. In plain Python, we wrote this as a list of lists. With NumPy, this will be a 2-dimensional array, which we'll call a matrix. NumPy makes this easy by treating this matrix as a list of vectors and performing the dot product one by one with the vector of inputs, returning a list of dot products. The dot product's result, in our case, is a vector of sums of the weight and input products for each of the neurons. From here, we still need to add corresponding biases to them. The biases can be easily added to the result of the dot product operation as they are a vector of the same size."
   ]
  },
  {
   "cell_type": "code",
   "execution_count": 5,
   "id": "composite-viking",
   "metadata": {},
   "outputs": [
    {
     "data": {
      "text/plain": [
       "array([4.8  , 1.21 , 2.385])"
      ]
     },
     "execution_count": 5,
     "metadata": {},
     "output_type": "execute_result"
    }
   ],
   "source": [
    "inputs = [1.0, 2.0, 3.0, 2.5]\n",
    "weights = [\n",
    "    [0.2, 0.8, -0.5, 1],\n",
    "    [0.5, -0.91, 0.26, -0.5],\n",
    "    [-0.26, -0.27, 0.17, 0.87]\n",
    "]\n",
    "biases = [2.0, 3.0, 0.5]\n",
    "\n",
    "layer_outputs = np.dot(weights, inputs) + biases\n",
    "layer_outputs"
   ]
  },
  {
   "cell_type": "markdown",
   "id": "romantic-button",
   "metadata": {},
   "source": [
    "## A Batch of Data\n",
    "To train, neural networks tend to receive data in batches. So far, the example input data have been only one sample of various features called a feature set.\n",
    "\n",
    "```inputs = [1, 2, 3, 2.5]```\n",
    "\n",
    "Here, the data are somehow meaningful and descriptive to the output we desire. Imagine each number as a value from a different sensor. Each of these values is a feature observation datum, and together they form a feature set instance, also called a sample. Often, neural networks expect to take in many samples at a time for two reasons. One reason is that it's faster to train in batches in parallel processing, and the other reason is that batches help with generalization during training. If you perform a step of a training process on one sample at a time, it is highely likely to keep fitting to that individual sample, rather than slowly producing general tweaks to weights and biases that fit the entire dataset. Fitting ot training in batches gives you a higher chance of making more meaningful changes to weights and biases.\n",
    "\n",
    "A list of lists could be made into an array since it is homologous. Note that each list in this larger list is a sample representing a feature set.\n",
    "\n",
    "```inputs = [[1, 2, 3, 2.5], [2, 5, -1, 2], [-1.5, 2.7, 3.3, -0.8]]```\n",
    "\n",
    "We have a matrix of inputs and a matrix of weights now, and we need to perform the dot product on them somehow. As we performed a dot product on a matrix and a vector, we treated the matrix as a list of vectors, resulting in a list of dot products. In this example, we need to manage both matrices as a list of vectors and performs dot products on all of them in all combinations, resulting in a list of lists of outputs, or a matrix; this operation is called the **matrix product**\n",
    "\n",
    "Assuming you are aware of *matrix multiplication* and *tranpose of a matrix*, To transform a list into a matrix containing a single row, we can put it into a list and create numpy array"
   ]
  },
  {
   "cell_type": "code",
   "execution_count": 6,
   "id": "adequate-sydney",
   "metadata": {},
   "outputs": [
    {
     "name": "stdout",
     "output_type": "stream",
     "text": [
      "[[1 2 3]]\n",
      "[[1 2 3]]\n"
     ]
    }
   ],
   "source": [
    "a = [1, 2, 3]\n",
    "print(np.array([a]))\n",
    "print(np.expand_dims(np.array(a), axis = 0))"
   ]
  },
  {
   "cell_type": "code",
   "execution_count": 7,
   "id": "attractive-aberdeen",
   "metadata": {},
   "outputs": [
    {
     "data": {
      "text/plain": [
       "array([[20]])"
      ]
     },
     "execution_count": 7,
     "metadata": {},
     "output_type": "execute_result"
    }
   ],
   "source": [
    "a = [1, 2, 3]\n",
    "b = [2, 3, 4]\n",
    "\n",
    "a = np.expand_dims(np.array(a), axis = 0)\n",
    "b = np.expand_dims(np.array(b), axis = 0).T\n",
    "\n",
    "np.dot(a, b)"
   ]
  },
  {
   "cell_type": "markdown",
   "id": "posted-migration",
   "metadata": {},
   "source": [
    "# A Layer of Neurons & Batches of Data\n",
    "Initially, we were able to perform the dot product on the inputs and the weights without transposition because the weights were a matrix, but the inputs were just a vector. In this case, the dot product results in a vector of atomic data products performed on each row from the matrix and this single vector. When inputs become a batch of inputs, we need to perform the matrix product. It takes all of the combinations of rows from the left matrix and the columns from the right matrix, performing the dot product on them and placing the results in an output array. Both arrays have the same shape, but, to perform the matrix product, the shape's value from the index 1 of the first matrix and the index 0 of the second matrix must match."
   ]
  },
  {
   "cell_type": "code",
   "execution_count": 8,
   "id": "dental-brunswick",
   "metadata": {},
   "outputs": [
    {
     "data": {
      "text/plain": [
       "array([[ 4.8  ,  1.21 ,  2.385],\n",
       "       [ 8.9  , -1.81 ,  0.2  ],\n",
       "       [ 1.41 ,  1.051,  0.026]])"
      ]
     },
     "execution_count": 8,
     "metadata": {},
     "output_type": "execute_result"
    }
   ],
   "source": [
    "inputs = [\n",
    "    [1.0, 2.0, 3.0, 2.5],\n",
    "    [2.0, 5.0, -1.0, 2.0],\n",
    "    [-1.5, 2.7, 3.3, -0.8]\n",
    "]\n",
    "\n",
    "weights = [\n",
    "    [0.2, 0.8, -0.5, 1.0],\n",
    "    [0.5, -0.91, 0.26, -0.5],\n",
    "    [-0.26, -0.27, 0.17, 0.87]\n",
    "]\n",
    "\n",
    "biases = [2.0, 3.0, 0.5]\n",
    "\n",
    "layer_outputs = np.dot(inputs, np.array(weights, dtype=float).T) + biases\n",
    "layer_outputs"
   ]
  },
  {
   "cell_type": "markdown",
   "id": "third-southwest",
   "metadata": {},
   "source": [
    "# Adding Layers\n",
    "At the moment, we just have one layer, which is effectively an output layer. Currently, we have no hidden layers. A hidden layer isn't an input or output layers; as the scientist, you see data as tehy are handed to the input layer and the resulting data from the output layer. Layers between these endpoints have values that we don't necessarily deal with, hence the name \"hidden\". Don't let this name convince you that you can't access these values, though. You will often use them to diagnose issues or improve your neural network. To explore this concept, let's add another layer to this neural network, and, for now, let's assume these layers that we're going to have will be the hidden layers, and we just have not coded our output layer yet. Before we add another layer, let's think about what will be coming. In the case of the first layer, we can see that we have an input with 4 features. Samples get fed through the input, which does not change it in any way, to our first hidden layer, which we can see has 3 sets of weights, with 4 values each.\n",
    "\n",
    "Each of those 3 unique weights sets is associated with its distinct neuron. Thus, since we have 3 weights sets, we have 3 neurons in the first hidden layer. Each neuron has a unique set of weights, of which we have 4, which is why our intial weights have a shape of *(3, 4)*\n",
    "\n",
    "Now, we wish to add another layer. To do that, we must make sure that the expected input to that layer matches the previous layer's output. We have set the number of neurons in a layer by setting how many weight sets and biases we have. The previous layer's influence on weight sets for the current layer is that each weight set needs to have a separate weight per input. This means a distinct weight per neuron from the previous layer. The previous layer has 3 weight sets and 3 biases, so we know it has 3 neurons. This then means, for the next layer, we can have as many weight sets as we want, but each of those weight sets must have 3 discrete weights."
   ]
  },
  {
   "cell_type": "code",
   "execution_count": 9,
   "id": "funded-farmer",
   "metadata": {},
   "outputs": [
    {
     "name": "stdout",
     "output_type": "stream",
     "text": [
      "[[ 4.8    1.21   2.385]\n",
      " [ 8.9   -1.81   0.2  ]\n",
      " [ 1.41   1.051  0.026]]\n",
      "[[-1.8819  -1.04185 -2.03875]\n",
      " [ 0.0434  -2.7332  -5.7633 ]\n",
      " [-1.01914  1.41254 -0.35655]]\n"
     ]
    }
   ],
   "source": [
    "x = [[1, 2, 3, 2.5],\n",
    "    [2.0, 5.0, -1.0, 2.0],\n",
    "    [-1.5, 2.7, 3.3, -0.8]]\n",
    "\n",
    "w1 = [[0.2, 0.8, -0.5, 1],\n",
    "    [0.5, -0.91, 0.26, -0.5],\n",
    "    [-0.26, -0.27, 0.17, 0.87]]\n",
    "b1 = [2, 3, 0.5]\n",
    "\n",
    "w2 = [[0.1, -0.14, -.5],\n",
    "    [-0.5, 0.12, -0.33],\n",
    "    [-0.44, 0.73, -0.13]]\n",
    "b2 = [-1, 2, -0.5]\n",
    "\n",
    "layer1_outputs = np.dot(x, np.array(w1).T) + b1\n",
    "layer2_outputs = np.dot(layer1_outputs, np.array(w2).T) + b2\n",
    "\n",
    "print(layer1_outputs)\n",
    "print(layer2_outputs)"
   ]
  },
  {
   "cell_type": "markdown",
   "id": "documentary-modern",
   "metadata": {},
   "source": [
    "# Training Data\n",
    "Rather than hand-typing in random data, we'll use a function that can create non-linear data. Linear data can be fit with or represented by a straight line. If you were to graph data points of the form (x, y) where ```y = f(x)```, and it looks to be a line with a clear trend or slope, then chances are, they're  linear data! Linear Data are very easily approximated so easily are non-linear datasets. To simplify this, we've created a python package that you can install with pip, called ```nnfs```"
   ]
  },
  {
   "cell_type": "code",
   "execution_count": 10,
   "id": "respected-healing",
   "metadata": {},
   "outputs": [
    {
     "name": "stdout",
     "output_type": "stream",
     "text": [
      "Requirement already satisfied: nnfs in c:\\users\\surface\\appdata\\local\\programs\\python\\python38\\lib\\site-packages (0.5.1)\n",
      "Requirement already satisfied: numpy in c:\\users\\surface\\appdata\\local\\programs\\python\\python38\\lib\\site-packages (from nnfs) (1.20.1)\n"
     ]
    }
   ],
   "source": [
    "!pip install nnfs"
   ]
  },
  {
   "cell_type": "code",
   "execution_count": 11,
   "id": "complimentary-partition",
   "metadata": {},
   "outputs": [],
   "source": [
    "from nnfs.datasets import spiral_data\n",
    "import nnfs\n",
    "import numpy as np"
   ]
  },
  {
   "cell_type": "code",
   "execution_count": 12,
   "id": "cubic-monitoring",
   "metadata": {},
   "outputs": [],
   "source": [
    "# The nnfs.init() does three things: it sets the random seed to 0, creates\n",
    "# a float32 dtype default, and overrides the original dot products from NumPy.\n",
    "\n",
    "nnfs.init()"
   ]
  },
  {
   "cell_type": "code",
   "execution_count": 13,
   "id": "smoking-operator",
   "metadata": {},
   "outputs": [
    {
     "data": {
      "image/png": "[encoded data removed]",
      "text/plain": [
       "<Figure size 432x288 with 1 Axes>"
      ]
     },
     "metadata": {
      "needs_background": "light"
     },
     "output_type": "display_data"
    }
   ],
   "source": [
    "import matplotlib.pyplot as plt\n",
    "\n",
    "X, y = spiral_data(samples=100, classes=3)\n",
    "plt.scatter(X[:, 0], X[:, 1], c=y, cmap=\"brg\")\n",
    "plt.show()"
   ]
  },
  {
   "cell_type": "markdown",
   "id": "excellent-costa",
   "metadata": {},
   "source": [
    "# Dense Layer Class\n",
    "Now that we no longer need to hand-type our data we should create something similar for our various types of neural network layers. So far, we've only used what's called a fully-connected layer or a *Dense Layer* These layers are commonly referred to as Dense layers in papers, literature and code, but ocassionally also called a fully-connected.\n",
    "\n",
    "Weights are often initialized randomly for a model, but not always. If you wish to load a pre-trained model, we will initialize the parameters to whatever that pretrained model finished with. It's also possible that, even for a new model, you have some other initialization rules besides random. For now, we'll stick with random initialization. Next, we have the forward method. When we pass data through a model from beginning to end, this is called a **forward pass**. Just like everything else, however, this is not the only one way to do things. You can have the data loop back around and do other intersting things. We'll keep it usual and perform a regular forward pass.\n",
    "\n",
    "Here, we set the weights to be random and biases to be zero. **NOTE** - We're initializing weights to be *(inputs, neuron)*, rather than *(neuron, inputs)* so that we don't have to transpose everytime we perform a forward pass. We set the bias to 0 because in specific scenarios where many samples contain values of 0, a bias ensures that a neuron fires initially. It sometimes may be appropriate to initialize the biases to some non-zero number, but the most common intitialization for biases is 0. Dead neurons are neurons that does not meet the threshold of the step function anytime. This becomes a problem if this happes to this neuron for every one of the input samples.\n",
    "\n",
    "```np.random.randn()``` produces a Guassian distribution with a mean of 0 and a variance of 1. which means that it'll generate random numbers, positive and negative, centered at 0. In general, neural networks works best with values between -1 and +1. We multiply this Gaussian distribution for the weights by 0.01 to generate numbers that are a couple of magintudes smaller. Otherwise, the model will take more time to fit the data during the training process as starting valyes will be disproportionally large compared to the updates being made during training. The idea here is to start a model with non-zero values small enough that they won't affect training. This way, we have a bunch of values to begin working with, but hopefully not too large or as zeros. This ```np.random.randn()```function takes dimension sizes as parameters and creates the output array with that shape.\n",
    "\n",
    "```np.zeros()``` function takes a desired array shape as an argument and returns an array of the shape filled with zeros."
   ]
  },
  {
   "cell_type": "code",
   "execution_count": 14,
   "id": "handmade-causing",
   "metadata": {},
   "outputs": [
    {
     "name": "stdout",
     "output_type": "stream",
     "text": [
      "[[ 1.7640524   0.4001572   0.978738    2.2408931   1.867558  ]\n",
      " [-0.9772779   0.95008844 -0.1513572  -0.10321885  0.41059852]]\n"
     ]
    }
   ],
   "source": [
    "import nnfs\n",
    "nnfs.init()\n",
    "print(np.random.randn(2, 5))"
   ]
  },
  {
   "cell_type": "code",
   "execution_count": 15,
   "id": "interracial-exploration",
   "metadata": {},
   "outputs": [],
   "source": [
    "nnfs.init()\n",
    "class Layer_Dense:\n",
    "    def __init__(self, n_inputs, n_neurons):\n",
    "        self.weights = 0.01 * np.random.randn(n_inputs, n_neurons)\n",
    "        self.biases = np.zeros((1, n_neurons))\n",
    "    \n",
    "    def forward(self, inputs):\n",
    "        self.output = np.dot(inputs, self.weights) + self.biases"
   ]
  },
  {
   "cell_type": "code",
   "execution_count": 16,
   "id": "outdoor-faculty",
   "metadata": {},
   "outputs": [
    {
     "name": "stdout",
     "output_type": "stream",
     "text": [
      "[[ 0.0000000e+00  0.0000000e+00  0.0000000e+00]\n",
      " [-1.0475188e-04  1.1395361e-04 -4.7983500e-05]\n",
      " [-2.7414842e-04  3.1729150e-04 -8.6921798e-05]\n",
      " [-4.2188365e-04  5.2666257e-04 -5.5912682e-05]\n",
      " [-5.7707680e-04  7.1401405e-04 -8.9430439e-05]]\n"
     ]
    }
   ],
   "source": [
    "X, y = spiral_data(samples=100, classes=3)\n",
    "\n",
    "# Create a Dense layer with 2 input features and 3 neurons in it.\n",
    "dense1 = Layer_Dense(2, 3)\n",
    "\n",
    "# Perform a forward pass of our training data through this layer\n",
    "dense1.forward(X)\n",
    "\n",
    "print(dense1.output[:5])"
   ]
  },
  {
   "cell_type": "markdown",
   "id": "institutional-jumping",
   "metadata": {},
   "source": [
    "# Activations\n",
    "\n",
    "An activation function is applied to the output of a neuron, which modifies outputs. We use activation function because if the activation function itself is nonlinear, it allows for the neural networks with usually two or more hidden layers to map nonlinear functions. In general, a neural network will haev two types of activation function. The first will be the activation used in the hidden layers, and the second will be used in the output layer. Usually, the activation function used for hidden neurons will be the same for all of them, but it doesn't have to."
   ]
  },
  {
   "attachments": {
    "image-2.png": {
     "image/png": "[encoded data removed]"
    },
    "image-3.png": {
     "image/png": "[encoded data removed]"
    },
    "image-4.png": {
     "image/png": "[encoded data removed]"
    },
    "image-5.png": {
     "image/png": "[encoded data removed]"
    },
    "image.png": {
     "image/png": "[encoded data removed]"
    }
   },
   "cell_type": "markdown",
   "id": "casual-airline",
   "metadata": {},
   "source": [
    "### Step Activation Function\n",
    "A purpose of this activation function serves is to mimic a neuron 'firing' or 'not firing' based on the input information. The simplest version of this is a step function. In a single neuron, if the ```weights x inputs + bias``` results in a value greater than 0, the neuron will fire and output a 1; otherwise, it will output a 0. This activation function has been used historically in hidden layers, but nowadays, it is rarely a choice.\n",
    "![image.png](attachment:image.png)\n",
    "\n",
    "### Sigmoid Activation Function\n",
    "The problem with the step function is that it's not very informative. When we get to training and network optimizers, we will see that the way an optimizer works is by assessing individual impacts that weights and biases have on a network's output. The problem with a step function is that it's less clear to the optimzier what these impacts are because there's very little information gathered from this function. It's either 1 or 0. It's hard to tell how close this step function was to activating or deactivating. Maybe it was very close, or maybe it was clost to outputting something else. Thus, when it comes time to optimizer weights and biases, it's easier for the optimizer if we have activation functions that are more granular and informative. This function returns a value in the range of 0 for negative infinity, through 0.5 for the input of 0, and 1 for positive infinity. This introduces non-linearity to the neural networks.\n",
    "![image-2.png](attachment:image-2.png)\n",
    "\n",
    "### Rectified Linear Activation Function\n",
    "The sigmoid function, historically used in hidden layers, was eventually by Rectified Linear Units activation function (ReLU). ReLU is simpler than sigmoid. it's ```y=x```, clipped at 0 from the negative side. If x is less than or equal to 0, then y is 0 - otherwise, y is equal to x.\n",
    "![image-5.png](attachment:image-5.png)\n",
    "\n",
    "### Hyperbolic Tangent Function\n",
    "This function is simliar to the sigmoid function. Output values of this function can variate from -1 to 1, indifference to the sigmoid function which covers values from 0 to 1. Although this is not what happends in the neurons, biologically wise, this function gives better results when it comes to training neural networks. Sometimes, neural networks get stuck during training when the sigmoid function, meaning that when provided with input that is strongly-negative, the output of these networks very near zero. This in turns messes up the learning process that will bemore covered in next posts.\n",
    "![image-3.png](attachment:image-3.png)\n",
    "\n",
    "### Softmax Activation Function\n",
    "A ReLU is unbounded, not normalized with other units and exclusive. To address this lack of context, the softmax activation on the output data can take in non-normalized, or uncalibrated, inputs and produce a normalized distribution of probabilities for our classes. In the case of classification, we want a prediction of which class the network thinks the input represents. This distribution returned by the softmax activation function represent confidence scores for each class and will add up to 1. The predicted class is associated with the output neuron that returned the largest confidence scores.\n",
    "![image-4.png](attachment:image-4.png)"
   ]
  },
  {
   "cell_type": "markdown",
   "id": "abandoned-healing",
   "metadata": {},
   "source": [
    "# Why use activation functions?\n",
    "In most cases, for a neural network to fit a non-linear function, we need it to contain two or more hidden layers, and we need those hidden layers to use a non-linear activation function. While there are certainly problems in life that are linear in nature, for example, trying to figure out the cost of some number of shirts, and we know the cost of an individual shirt, and that there are no bulk discounts, then the equation to calculate the price of any number of those products is a linear equation. Other problems in life are not so simple, like the price of a home. The number of factors that come into play, such as size, location, time of year attempting to sell, number of rooms, yard, neighbourhood, and so on, makes the pricing of a home a non-linear equation. Many of the more interesting problems of our time are non-linear. The main attraction for neural networks has to do with their ability to solve non-linear problems.\n",
    "\n",
    "### ReLU"
   ]
  },
  {
   "cell_type": "code",
   "execution_count": 17,
   "id": "public-conference",
   "metadata": {},
   "outputs": [
    {
     "name": "stdout",
     "output_type": "stream",
     "text": [
      "[0, 2, 0, 3.3, 0, 1.1, 2.2, 0]\n",
      "[0, 2, 0, 3.3, 0, 1.1, 2.2, 0]\n"
     ]
    }
   ],
   "source": [
    "inputs = [0, 2, -1, 3.3, -2.7, 1.1, 2.2, -100]\n",
    "output = []\n",
    "for i in inputs:\n",
    "    if i > 0:\n",
    "        output.append(i)\n",
    "    else:\n",
    "        output.append(0)\n",
    "        \n",
    "print(output)\n",
    "\n",
    "output = []\n",
    "# This can be more simply written as\n",
    "for i in inputs:\n",
    "    output.append(max(0, i))\n",
    "    \n",
    "print(output)"
   ]
  },
  {
   "cell_type": "code",
   "execution_count": 18,
   "id": "brazilian-transparency",
   "metadata": {},
   "outputs": [
    {
     "data": {
      "text/plain": [
       "array([0. , 2. , 0. , 3.3, 0. , 1.1, 2.2, 0. ])"
      ]
     },
     "execution_count": 18,
     "metadata": {},
     "output_type": "execute_result"
    }
   ],
   "source": [
    "# The NumPy equivalent is np.maximum()\n",
    "outputs = np.maximum(0, inputs)\n",
    "outputs"
   ]
  },
  {
   "cell_type": "code",
   "execution_count": 19,
   "id": "boxed-pizza",
   "metadata": {},
   "outputs": [],
   "source": [
    "class Activation_ReLU:\n",
    "    def forward(self, inputs):\n",
    "        self.output = np.maximum(0, inputs)"
   ]
  },
  {
   "cell_type": "code",
   "execution_count": 20,
   "id": "differential-controversy",
   "metadata": {},
   "outputs": [
    {
     "name": "stdout",
     "output_type": "stream",
     "text": [
      "[[0. 0. 0.]\n",
      " [0. 0. 0.]\n",
      " [0. 0. 0.]\n",
      " [0. 0. 0.]\n",
      " [0. 0. 0.]]\n"
     ]
    }
   ],
   "source": [
    "# Generate random spiral data \n",
    "X, y = spiral_data(samples=100, classes=3)\n",
    "\n",
    "# Instantiating\n",
    "dense = Layer_Dense(2, 3)\n",
    "activation = Activation_ReLU()\n",
    "\n",
    "# Forward passes\n",
    "dense.forward(X)\n",
    "activation.forward(dense.output)\n",
    "\n",
    "\n",
    "print(activation.output[:5])"
   ]
  },
  {
   "cell_type": "markdown",
   "id": "together-adult",
   "metadata": {},
   "source": [
    "### Softmax\n",
    "Let's analyse the softmax activation function, Exponentiation serves multiple purposes. To calculate the probabilities, we need non-negative values. Imagine the output even after normalization, the last value will still be negative since we'll just divide all of them by their sum. A negative probability does not make sense. An exponential value of any number is always non-negative. \n",
    "\n",
    "The exponential function is also a monotonic function. This means that, with higher input values, outputs are also higher, so we won't change the predicted class after applying it while making sure that we get non-negative values. It also adds stability to the result as the normalized exponentiation is more about the difference between numbers than their magnitudes. Once we;ve exponentiated, we want to convert these numbers to a probability distribution."
   ]
  },
  {
   "cell_type": "code",
   "execution_count": 21,
   "id": "touched-gravity",
   "metadata": {},
   "outputs": [
    {
     "name": "stdout",
     "output_type": "stream",
     "text": [
      "exponentiated values : [121.51041751893969, 3.3534846525504487, 10.85906266492961]\n",
      "Normalized exponentiated values : [0.8952826639573506, 0.024708306782070668, 0.08000902926057876]\n",
      "Sum of normalized exponentiated values : 1.0\n"
     ]
    }
   ],
   "source": [
    "layer_outputs = [4.8, 1.21, 2.385]\n",
    "E = 2.71828182846\n",
    "\n",
    "exp_values = []\n",
    "for output in layer_outputs:\n",
    "    exp_values.append(E ** output)\n",
    "print(f'exponentiated values : {exp_values}')\n",
    "\n",
    "norm_base = sum(exp_values)\n",
    "norm_values = []\n",
    "for value in exp_values:\n",
    "    norm_values.append(value / norm_base)\n",
    "print(f'Normalized exponentiated values : {norm_values}')\n",
    "print(f'Sum of normalized exponentiated values : {sum(norm_values)}')"
   ]
  },
  {
   "cell_type": "code",
   "execution_count": 22,
   "id": "sharp-captain",
   "metadata": {},
   "outputs": [
    {
     "name": "stdout",
     "output_type": "stream",
     "text": [
      "exponentiated values : [121.51041752   3.35348465  10.85906266]\n",
      "Normalized exponentiated values : [0.89528266 0.02470831 0.08000903]\n",
      "Sum of the normalized exponentiated values : 0.9999999999999999\n"
     ]
    }
   ],
   "source": [
    "# We can also perform the same set of operations in NumPy\n",
    "layer_outputs = [4.8, 1.21, 2.385]\n",
    "exp_values = np.exp(layer_outputs)\n",
    "print(f'exponentiated values : {exp_values}')\n",
    "\n",
    "norm_values = exp_values / np.sum(exp_values)\n",
    "print(f'Normalized exponentiated values : {norm_values}')\n",
    "print(f'Sum of the normalized exponentiated values : {sum(norm_values)}')"
   ]
  },
  {
   "cell_type": "code",
   "execution_count": 24,
   "id": "capital-subsection",
   "metadata": {},
   "outputs": [],
   "source": [
    "# To train in batches, we need to convert this functionality\n",
    "# to accept layer_outputs in batches.\n",
    "\n",
    "# exp_values = np.exp(inputs)\n",
    "# probabilities = exp_values / np.sum(exp_values, axis = 1, keepdims=True)\n",
    "\n",
    "# probabilities"
   ]
  },
  {
   "cell_type": "code",
   "execution_count": 25,
   "id": "statutory-intersection",
   "metadata": {},
   "outputs": [],
   "source": [
    "class Activation_Softmax:\n",
    "    def forward(self, inputs):\n",
    "        exp_values = np.exp(inputs - np.max(inputs, axis = 1, keepdims=True))\n",
    "        probabilities = exp_values / np.sum(exp_values, axis = 1, keepdims=True)\n",
    "        self.output = probabilities"
   ]
  },
  {
   "cell_type": "code",
   "execution_count": 26,
   "id": "premier-operator",
   "metadata": {},
   "outputs": [
    {
     "name": "stdout",
     "output_type": "stream",
     "text": [
      "[[0.33333334 0.33333334 0.33333334]\n",
      " [0.33333364 0.3333334  0.3333329 ]\n",
      " [0.33333385 0.3333335  0.33333266]\n",
      " [0.33333433 0.3333336  0.33333206]\n",
      " [0.33333462 0.33333373 0.33333164]]\n"
     ]
    }
   ],
   "source": [
    "X, y = spiral_data(samples=100, classes=3)\n",
    "\n",
    "dense1 = Layer_Dense(2, 3)\n",
    "relu1 = Activation_ReLU()\n",
    "dense2 = Layer_Dense(3, 3)\n",
    "relu2 = Activation_Softmax()\n",
    "\n",
    "dense1.forward(X)\n",
    "relu1.forward(dense1.output)\n",
    "dense2.forward(relu1.output)\n",
    "relu2.forward(dense2.output)\n",
    "\n",
    "print(relu2.output[:5])"
   ]
  },
  {
   "cell_type": "markdown",
   "id": "adolescent-renaissance",
   "metadata": {},
   "source": [
    "## Learnt till now\n",
    "* Dense Layers\n",
    "* Feedforward\n",
    "* Activations"
   ]
  },
  {
   "cell_type": "code",
   "execution_count": 27,
   "id": "brief-check",
   "metadata": {},
   "outputs": [
    {
     "data": {
      "text/plain": [
       "array([[0.33333334, 0.33333334, 0.33333334],\n",
       "       [0.3333341 , 0.33333302, 0.3333329 ],\n",
       "       [0.3333341 , 0.33333302, 0.33333296],\n",
       "       [0.3333341 , 0.333333  , 0.33333293],\n",
       "       [0.3333364 , 0.33333203, 0.33333158]], dtype=float32)"
      ]
     },
     "execution_count": 27,
     "metadata": {},
     "output_type": "execute_result"
    }
   ],
   "source": [
    "class Dense():\n",
    "    def __init__(self, n_inputs, n_neurons):\n",
    "        self.weights = 0.01 * np.random.randn(n_inputs, n_neurons)\n",
    "        self.biases = np.zeros((1, n_neurons))\n",
    "        \n",
    "    def forward(self, inputs):\n",
    "        self.output = np.dot(inputs, self.weights) + self.biases\n",
    "        \n",
    "class ReLU():\n",
    "    def forward(self, inputs):\n",
    "        self.output = np.maximum(0, inputs)\n",
    "\n",
    "class Softmax():\n",
    "    def forward(self, inputs):\n",
    "        exp_values = np.exp(inputs - np.max(inputs, axis = 1, keepdims=True))\n",
    "        probabilities = exp_values / np.sum(exp_values, axis = 1, keepdims=True)\n",
    "        self.output = probabilities\n",
    "        \n",
    "# Creating a random dataset\n",
    "X, y = spiral_data(samples=100, classes=3)\n",
    "\n",
    "dense1 = Dense(2, 3)\n",
    "relu = ReLU()\n",
    "dense2 = Dense(3, 3)\n",
    "softmax = Softmax()\n",
    "\n",
    "dense1.forward(X)\n",
    "relu.forward(dense1.output)\n",
    "dense2.forward(relu.output)\n",
    "softmax.forward(dense2.output)\n",
    "\n",
    "softmax.output[:5]"
   ]
  },
  {
   "attachments": {
    "image.png": {
     "image/png": "[encoded data removed]"
    }
   },
   "cell_type": "markdown",
   "id": "adult-carrier",
   "metadata": {},
   "source": [
    "# Network Error with Loss\n",
    "With a randomly-initialized model, or even a model intitialized with more sophisticated approaches, our goal is to train, or teach a model over time. To train a model, we tweak the weights and biases to improv the model's accuracy and confidence. To do this, we calculate how much error the model has. The **loss function**, also referred the **cost function**, is the algorith that quantifies how wrong a model is. Loss is the measure of this metric. Since loss is the model's error, we ideally want it to be 0. \n",
    "\n",
    "The model has a softmax activation function for the output layer, which means it's outputting a probability  distribution. **Categorical Crossentropy** is explicitly used to compare a target probability and some predicted distribution. It is one of the most commonly used loss functions with a softmax activation on the output layer.\n",
    "\n",
    "The formula for calculating the categorical crossentropy of *y* (actual distribution) and *y-hat* (predicted distribution) is:\n",
    "![image.png](attachment:image.png)\n",
    "\n",
    "Where L denotes sample loss value, i is the i-th sample in the set, y denotes the target values and y-hat denotes the predicted values.\n",
    "\n",
    "In general, log loss error functoin is what we apply to the output of a binary logistic regression model - there are only two classes in the distribution, each of them applying to a single output which is target as a 0 or 1. In our case, we have a classification model that returns are probability distribution over all of the outputs. Crossentropy compares two probability distribution. The desired probabilities will consist of a 1 in the desired class, and a 0 in the remaining undesired classes. Arrays or vectors like this are called **one-hot encoded**. when comparing the model's results to a one-hot vector using crossentropy, the other parts of the equation zero out, and the target probability's log loss is multiplied by 1, making the crossentropy calculation relatively simple. "
   ]
  },
  {
   "cell_type": "code",
   "execution_count": 28,
   "id": "plastic-result",
   "metadata": {},
   "outputs": [
    {
     "data": {
      "text/plain": [
       "0.35667494393873245"
      ]
     },
     "execution_count": 28,
     "metadata": {},
     "output_type": "execute_result"
    }
   ],
   "source": [
    "import math\n",
    "\n",
    "softmax_output = [0.7, 0.1, 0.2]\n",
    "target_output = [1, 0, 0]\n",
    "\n",
    "loss = -(math.log(softmax_output[0]) * target_output[0] +\n",
    "         math.log(softmax_output[1]) * target_output[1] +\n",
    "         math.log(softmax_output[2]) * target_output[2])\n",
    "\n",
    "loss"
   ]
  },
  {
   "cell_type": "markdown",
   "id": "frank-enlargement",
   "metadata": {},
   "source": [
    "That's the full categorical cross entropy calculation, but we can make a few assumptions given the vectors are one-hot encoded. all the indices except 1 hold the value 0, which during calculations result in 0. Thus, we don't need to calculate these indices. Now the same output then, can be calulated with:\n",
    "\n",
    "```loss = -math.log(softmax_output[0])```\n",
    "\n",
    "We now need to modify our output distributions; and second, make the negative log calculation dynamix to the target index. Consider a scenario of classification in three classes, and the neural network classifies in batches of three. After running through softmax activation function with a batch of 3 samples and 3 classes, we need a way to dynamically calculate categorical crossentropy which we now know is a negative log calculation. Let's say the target are listed as [0, 1, 1]. The first value, 0, in target class means the first msoftmax output distribution's intended prediction was the one at the 0th index. This continues throughout the batch, where the intended target of the 2nd softmax distribution was at an index of 1. With a collection of softmax outputs and their intended targets, we can map these indices to retrieve the values from the softmax distributions."
   ]
  },
  {
   "cell_type": "code",
   "execution_count": 29,
   "id": "nutritional-newton",
   "metadata": {},
   "outputs": [
    {
     "name": "stdout",
     "output_type": "stream",
     "text": [
      "0.7\n",
      "0.5\n",
      "0.9\n"
     ]
    }
   ],
   "source": [
    "softmax_outputs = np.array([[0.7, 0.1, 0.2],\n",
    "                            [0.1, 0.5, 0.4],\n",
    "                            [0.02, 0.9, 0.08]])\n",
    "\n",
    "class_targets = [0, 1, 1]\n",
    "\n",
    "for target_index, distribution in zip(class_targets, softmax_outputs):\n",
    "    print(distribution[target_index])"
   ]
  },
  {
   "cell_type": "code",
   "execution_count": 30,
   "id": "finite-painting",
   "metadata": {},
   "outputs": [
    {
     "name": "stdout",
     "output_type": "stream",
     "text": [
      "[0.7 0.5 0.9]\n",
      "[0.7 0.5 0.9]\n"
     ]
    }
   ],
   "source": [
    "# This can be further simplified using NumPy array as it\n",
    "# allows indexing with list filled with indices.\n",
    "\n",
    "print(softmax_outputs[[0, 1, 2], class_targets])\n",
    "# OR\n",
    "print(softmax_outputs[range(len(softmax_outputs)), class_targets])"
   ]
  },
  {
   "cell_type": "code",
   "execution_count": 31,
   "id": "promising-inside",
   "metadata": {},
   "outputs": [
    {
     "name": "stdout",
     "output_type": "stream",
     "text": [
      "[0.35667494 0.69314718 0.10536052]\n"
     ]
    }
   ],
   "source": [
    "# Now let's calculate the negative log to this list\n",
    "neg_log = -np.log(softmax_outputs[range(len(softmax_outputs)), class_targets])\n",
    "print(neg_log)"
   ]
  },
  {
   "cell_type": "markdown",
   "id": "limiting-climb",
   "metadata": {},
   "source": [
    "Finally, we want an average loss per batch to have an idea about how our model is doing during training. There are many ways to calculate an average in Python, the most basic form of an arithmetic mean is sum(iterable) / len(iterable). NumPy has a method that computes this average on arrays named ```np.mean()```"
   ]
  },
  {
   "cell_type": "code",
   "execution_count": 32,
   "id": "direct-garbage",
   "metadata": {},
   "outputs": [
    {
     "name": "stdout",
     "output_type": "stream",
     "text": [
      "0.38506088005216804\n"
     ]
    }
   ],
   "source": [
    "neg_log = -np.log(softmax_outputs[range(len(softmax_outputs)), class_targets])\n",
    "average_loss = np.mean(neg_log)\n",
    "\n",
    "print(average_loss)"
   ]
  },
  {
   "cell_type": "markdown",
   "id": "eleven-effort",
   "metadata": {},
   "source": [
    "Except One-Hot encoded vectors, they can also be sparse. Which means that the number they contain are the correct class numbers - we are generating them this way with ```spiral_data()``` function, and we can allow the loss calculation to accept any of these forms. Since we implemented this to work with sparse labels, we have to add a check if they are one-hot encoded and handle a bit differently in this case. The check can be performed by counting the dimensions - if target are single-dimension like a list, they are sparse, but if there are 2-dimensions, then there is a set of one-hot encoded vectors. In the seconc case, instead of filtering out the confidences at the target labels. We have to multiply confidences by the targets, zeroing out all the values except the ones at correct labells, performing a sum along the row axis. We have to add a test to the code we just wrote for the number of dimensions, move calculations of the log values outside of this new *if* statement, and implement the solution for the one-hot encoded labels."
   ]
  },
  {
   "cell_type": "code",
   "execution_count": 33,
   "id": "changing-momentum",
   "metadata": {},
   "outputs": [
    {
     "data": {
      "text/plain": [
       "0.38506088005216804"
      ]
     },
     "execution_count": 33,
     "metadata": {},
     "output_type": "execute_result"
    }
   ],
   "source": [
    "softmax_outputs = np.array([[0.7, 0.1, 0.2],\n",
    "                            [0.1, 0.5, 0.4],\n",
    "                            [0.02, 0.9, 0.08]])\n",
    "\n",
    "class_targets = np.array([[1, 0, 0],\n",
    "                          [0, 1, 0],\n",
    "                          [0, 1, 0]])\n",
    "\n",
    "# Probabilties for target values -\n",
    "# Only if categorical\n",
    "if len(class_targets.shape) == 1:\n",
    "    correct_confidences = softmax_outputs[\n",
    "        range(len(softmax_outputs)),\n",
    "        class_targets\n",
    "    ]\n",
    "\n",
    "# Mask values - only for one-hot encoded\n",
    "elif len(class_targets.shape) == 2:\n",
    "    correct_confidences = np.sum(softmax_outputs * class_targets,\n",
    "                                 axis = 1)\n",
    "    \n",
    "# Losses\n",
    "neg_log = -np.log(correct_confidences)\n",
    "average_loss = np.mean(neg_log)\n",
    "average_loss"
   ]
  },
  {
   "cell_type": "markdown",
   "id": "earned-greenhouse",
   "metadata": {},
   "source": [
    "There is one additional problem to solve. The softmax output, which is also the input to this loss function, consists of numbers in the range of 0 to 1 - a list of confidences. It is possible that the model will have full confidence for one label making all the remaining confidences zero. Similarly, it is also possible that the model will assign full confidence to a value that wasn't a target. If we then try to calculate the loss of this confidence:\n",
    "\n",
    "```\n",
    "-np.log(0)\n",
    ">>>\n",
    "__main__:1: RuntimeWarning: divide by zero encountered in log\n",
    "inf\n",
    "```\n",
    "\n",
    "From a mathematical point of view, log(0) is undefined. We already know the following dependence: if y = log(x), then e^y = x. The question of what the resulting y is in y = log(0) is same as the question of what's the y in e^y =0. In  This means that log(0) is undefined. Since log(0) is undefined, what's the result for a value very close to 0? We can calculate the limit of the function.\n",
    "Limit of a natural logarithm of x, with x approaching 0 from a positive equals negative infinity. What this means is that the limit is negative infinity for an infinitely small x, where x never reaches 0.\n",
    "\n",
    "But in programming there is no concept of limits, we could add a very small value to the confidence to prevent it from being a zero, for example ```1e-7```.\n",
    "\n",
    "```\n",
    "-np.log(1e-7)\n",
    ">>> 16.11809565095832\n",
    "```\n",
    "\n",
    "Adding a very small value, one-tenth of a million, to the confidence at its far edge will insignifcantly impact the result, but this mehotd yields an additional 2 issues. First, in the case where the confidence value is 1:\n",
    "```\n",
    "-np.log(1+1e-7)\n",
    ">>> -9.99999995058387e-8\n",
    "```\n",
    "When the model is fully correct in a prediction and puts all the confidence in the correct label, loss becomes a negative value instead of being 0. To prevent both issues, it's better to clip values from both sides by the same number 1e-7 in out case. That means that the lowest possible value will become 1e-7 but the highest possible value, instead of being 1 + 1e-7, will become 1 - 1e-7\n",
    "```\n",
    "-np.log(1 - 1e-7)\n",
    ">>> 1.00000494734674\n",
    "```\n",
    "This will prevent loss from being exactly 0, making it a very small value instead, but won't make it a negative value and won't bias towards 1. Within out code and using numpy, we'll accomplish that using ```np.clip()``` method"
   ]
  },
  {
   "cell_type": "code",
   "execution_count": 35,
   "id": "former-camping",
   "metadata": {},
   "outputs": [],
   "source": [
    "# y_pred_clipped = np.clip(y_pred, 1e-7, 1 - 1e-7)"
   ]
  },
  {
   "cell_type": "code",
   "execution_count": 36,
   "id": "ignored-poetry",
   "metadata": {},
   "outputs": [],
   "source": [
    "class CategoricalCrossentropy:\n",
    "    def calculate(self, y_pred, y_true):\n",
    "        samples = len(y_pred)\n",
    "\n",
    "        # Clip the data to prevent division by 0\n",
    "        y_pred_clipped = np.clip(y_pred, 1e-7, 1 - 1e-7)\n",
    "        \n",
    "        # If categorical labels (sparse)\n",
    "        if len(y_true.shape) == 1:\n",
    "            correct_confidences = y_pred_clipped[range(samples), y_true]\n",
    "            \n",
    "        # If one-hot encoded labels\n",
    "        elif len(y_true.shape) == 2:\n",
    "            correct_confidences = np.sum(y_pred_clipped * y_true,\n",
    "                                         axis = 1)\n",
    "            \n",
    "        negative_log_likelihoods = -np.log(correct_confidences)\n",
    "        return np.mean(negative_log_likelihoods)"
   ]
  },
  {
   "cell_type": "code",
   "execution_count": 37,
   "id": "concrete-apache",
   "metadata": {},
   "outputs": [
    {
     "data": {
      "text/plain": [
       "0.38506088005216804"
      ]
     },
     "execution_count": 37,
     "metadata": {},
     "output_type": "execute_result"
    }
   ],
   "source": [
    "loss_fn = CategoricalCrossentropy()\n",
    "loss = loss_fn.calculate(softmax_outputs, class_targets)\n",
    "loss"
   ]
  },
  {
   "cell_type": "markdown",
   "id": "embedded-emission",
   "metadata": {},
   "source": [
    "# Accuracy Calculation\n",
    "While loss is a useful metric for optimizing a model, the metric commonly used in practice along with loss is the **accuracy**, which describes how often the largest confidence is the correct class in terms of a fraction. Conviniently, we can reuse existing variable definitions to calculate the accuracy metric. We will use the *argmax* values from the *softmax_outputs* and then compare these to the targets."
   ]
  },
  {
   "cell_type": "code",
   "execution_count": 38,
   "id": "great-evaluation",
   "metadata": {},
   "outputs": [
    {
     "data": {
      "text/plain": [
       "0.6666666666666666"
      ]
     },
     "execution_count": 38,
     "metadata": {},
     "output_type": "execute_result"
    }
   ],
   "source": [
    "# Probability of 3 samples\n",
    "softmax_outputs = np.array([[0.7, 0.2, 0.1],\n",
    "                            [0.5, 0.1, 0.4],\n",
    "                            [0.02, 0.9, 0.08]])\n",
    "\n",
    "# Target labels for 3 samples\n",
    "class_targets = np.array([0, 1, 1])\n",
    "\n",
    "# Calculate values along the second axis\n",
    "predictions = np.argmax(softmax_outputs, axis = 1)\n",
    "\n",
    "# If the targets are one-hot encoded, then convert them\n",
    "if len(class_targets.shape) == 2:\n",
    "    class_targets = np.argmax(class_targets, axis = 1)\n",
    "accuracy = np.mean(predictions==class_targets)\n",
    "\n",
    "accuracy"
   ]
  },
  {
   "cell_type": "markdown",
   "id": "union-segment",
   "metadata": {},
   "source": [
    "# Introducing Optimization\n",
    "Now our neural network is able to pass data though it, and is also capable to calculate loss, the next step is to determine how to adjust the weights and biases to minimize loss is the main difficulty of neural networks. The first option is to randomly changing the weights, checking the loss, and repeating this until happy with the lowest loss found. To see this in action, we'll use a simpler dataset than we've been working with so far."
   ]
  },
  {
   "cell_type": "code",
   "execution_count": 39,
   "id": "owned-james",
   "metadata": {},
   "outputs": [],
   "source": [
    "import matplotlib.pyplot as plt\n",
    "import nnfs\n",
    "from nnfs.datasets import vertical_data\n",
    "nnfs.init()"
   ]
  },
  {
   "cell_type": "code",
   "execution_count": 40,
   "id": "starting-latter",
   "metadata": {},
   "outputs": [
    {
     "data": {
      "image/png": "[encoded data removed]",
      "text/plain": [
       "<Figure size 432x288 with 1 Axes>"
      ]
     },
     "metadata": {
      "needs_background": "light"
     },
     "output_type": "display_data"
    }
   ],
   "source": [
    "X, y = vertical_data(samples=100, classes=3)\n",
    "plt.scatter(X[:, 0], X[:, 1], c=y, s=40, cmap='brg')\n",
    "plt.show()"
   ]
  },
  {
   "cell_type": "code",
   "execution_count": null,
   "id": "asian-appendix",
   "metadata": {},
   "outputs": [],
   "source": [
    "for iteration in range(10000):\n",
    "    dense1 = Dense(2, 3)\n",
    "    relu = ReLU()\n",
    "    dense2 = Dense(3, 3)\n",
    "    softmax = Softmax()\n",
    "\n",
    "    loss_fn = CategoricalCrossentropy()\n",
    "\n",
    "    # Then create some variables to track the best loss\n",
    "    # and the associated weights and biases\n",
    "    lowest_loss = 9999999\n",
    "    best_dense1_weights = dense1.weights.copy()\n",
    "    best_dense1_biases = dense1.biases.copy()\n",
    "    best_dense2_weights = dense2.weights.copy()\n",
    "    best_dense2_biases = dense2.biases.copy()\n",
    "\n",
    "    # Perform a forward pass of training_data through this layer\n",
    "    dense1.forward(X)\n",
    "    relu.forward(dense1.output)\n",
    "    dense2.forward(relu.output)\n",
    "    softmax.forward(dense2.output)\n",
    "\n",
    "    # Calculate the loss\n",
    "    loss = loss_fn.calculate(softmax.output, y)\n",
    "\n",
    "    # Calculate the accuracy\n",
    "    predictions = np.argmax(softmax.output, axis=1)\n",
    "    accuracy = np.mean(predictions==y)\n",
    "\n",
    "    # If loss is smaller - print and save the weights and biases aside\n",
    "    if np.mean(loss) < lowest_loss:\n",
    "        print(f'New set of weights found, iteration: {iteration}, loss: {np.mean(loss)}, accuracy: {accuracy}')\n",
    "        best_dense1_weights = dense1.weights.copy()\n",
    "        best_dense1_biases = dense1.biases.copy()\n",
    "        best_dense2_weights = dense2.weights.copy()\n",
    "        best_dense2_biases = dense2.biases.copy()\n",
    "        lowest_loss = np.mean(loss)"
   ]
  },
  {
   "cell_type": "markdown",
   "id": "mobile-paste",
   "metadata": {},
   "source": [
    "Even with this basic dataset, we see that randomly searching for weight and bias combinations will take far too long to be an acceptable method. Another idea might be, instead of seeting parameters will randomly-chosen values for each iteration, apply a fraction of these values to parameters. With this, weights will be updated from what currently yields use the lowest loss instead of aiming randomly. If the adjustments decreases loss, we will make it the new point to adjust from. If loss instead increases due to the slight adjustment, then we will revert to the previous point. Using similar code from earlier, we will first change from randomly selecting weights and biases to randomly adjusting them"
   ]
  },
  {
   "cell_type": "code",
   "execution_count": 74,
   "id": "mechanical-dealing",
   "metadata": {},
   "outputs": [
    {
     "name": "stdout",
     "output_type": "stream",
     "text": [
      "New set of weights found, iteration: 0, loss: 1.0988620519638062, accuracy: 0.3333333333333333\n",
      "New set of weights found, iteration: 1, loss: 1.0986329317092896, accuracy: 0.3333333333333333\n",
      "New set of weights found, iteration: 7, loss: 1.098326325416565, accuracy: 0.3333333333333333\n",
      "New set of weights found, iteration: 10, loss: 1.0979485511779785, accuracy: 0.3333333333333333\n",
      "New set of weights found, iteration: 11, loss: 1.0972779989242554, accuracy: 0.4866666666666667\n",
      "New set of weights found, iteration: 15, loss: 1.0967180728912354, accuracy: 0.3333333333333333\n",
      "New set of weights found, iteration: 16, loss: 1.094355583190918, accuracy: 0.6133333333333333\n",
      "New set of weights found, iteration: 22, loss: 1.0931776762008667, accuracy: 0.58\n",
      "New set of weights found, iteration: 24, loss: 1.0909899473190308, accuracy: 0.3333333333333333\n",
      "New set of weights found, iteration: 30, loss: 1.090140700340271, accuracy: 0.5666666666666667\n",
      "New set of weights found, iteration: 31, loss: 1.0839649438858032, accuracy: 0.3333333333333333\n",
      "New set of weights found, iteration: 34, loss: 1.0771784782409668, accuracy: 0.3333333333333333\n",
      "New set of weights found, iteration: 35, loss: 1.0762455463409424, accuracy: 0.3333333333333333\n",
      "New set of weights found, iteration: 36, loss: 1.0702753067016602, accuracy: 0.3333333333333333\n",
      "New set of weights found, iteration: 38, loss: 1.069794774055481, accuracy: 0.33666666666666667\n",
      "New set of weights found, iteration: 39, loss: 1.0650203227996826, accuracy: 0.3333333333333333\n",
      "New set of weights found, iteration: 41, loss: 1.0603141784667969, accuracy: 0.3333333333333333\n",
      "New set of weights found, iteration: 44, loss: 1.0532320737838745, accuracy: 0.5533333333333333\n",
      "New set of weights found, iteration: 45, loss: 1.0524524450302124, accuracy: 0.3333333333333333\n",
      "New set of weights found, iteration: 47, loss: 1.0438066720962524, accuracy: 0.3333333333333333\n",
      "New set of weights found, iteration: 55, loss: 1.0385174751281738, accuracy: 0.3333333333333333\n",
      "New set of weights found, iteration: 56, loss: 1.0363651514053345, accuracy: 0.4166666666666667\n",
      "New set of weights found, iteration: 61, loss: 1.0259833335876465, accuracy: 0.44\n",
      "New set of weights found, iteration: 100, loss: 1.0229051113128662, accuracy: 0.3333333333333333\n",
      "New set of weights found, iteration: 101, loss: 1.018265724182129, accuracy: 0.3333333333333333\n",
      "New set of weights found, iteration: 105, loss: 0.9968134760856628, accuracy: 0.38\n",
      "New set of weights found, iteration: 112, loss: 0.9960337281227112, accuracy: 0.3333333333333333\n",
      "New set of weights found, iteration: 115, loss: 0.9941322803497314, accuracy: 0.37666666666666665\n",
      "New set of weights found, iteration: 116, loss: 0.9911800026893616, accuracy: 0.3333333333333333\n",
      "New set of weights found, iteration: 117, loss: 0.9720451831817627, accuracy: 0.45666666666666667\n",
      "New set of weights found, iteration: 118, loss: 0.9662784934043884, accuracy: 0.3333333333333333\n",
      "New set of weights found, iteration: 119, loss: 0.9622843265533447, accuracy: 0.45\n",
      "New set of weights found, iteration: 122, loss: 0.9531055688858032, accuracy: 0.58\n",
      "New set of weights found, iteration: 124, loss: 0.943308413028717, accuracy: 0.36666666666666664\n",
      "New set of weights found, iteration: 135, loss: 0.9406561255455017, accuracy: 0.48333333333333334\n",
      "New set of weights found, iteration: 136, loss: 0.9385348558425903, accuracy: 0.44333333333333336\n",
      "New set of weights found, iteration: 150, loss: 0.9364259839057922, accuracy: 0.4033333333333333\n",
      "New set of weights found, iteration: 153, loss: 0.9264406561851501, accuracy: 0.4533333333333333\n",
      "New set of weights found, iteration: 154, loss: 0.9206997752189636, accuracy: 0.49\n",
      "New set of weights found, iteration: 159, loss: 0.9174030423164368, accuracy: 0.4766666666666667\n",
      "New set of weights found, iteration: 160, loss: 0.9150953888893127, accuracy: 0.4633333333333333\n",
      "New set of weights found, iteration: 200, loss: 0.9103482961654663, accuracy: 0.48333333333333334\n",
      "New set of weights found, iteration: 206, loss: 0.9048779010772705, accuracy: 0.5033333333333333\n",
      "New set of weights found, iteration: 228, loss: 0.904793381690979, accuracy: 0.5866666666666667\n",
      "New set of weights found, iteration: 440, loss: 0.9039492011070251, accuracy: 0.5366666666666666\n",
      "New set of weights found, iteration: 442, loss: 0.903427243232727, accuracy: 0.3333333333333333\n",
      "New set of weights found, iteration: 443, loss: 0.8988791704177856, accuracy: 0.3333333333333333\n",
      "New set of weights found, iteration: 455, loss: 0.8970450758934021, accuracy: 0.3333333333333333\n",
      "New set of weights found, iteration: 456, loss: 0.8951249122619629, accuracy: 0.3433333333333333\n",
      "New set of weights found, iteration: 462, loss: 0.8946770429611206, accuracy: 0.5433333333333333\n",
      "New set of weights found, iteration: 463, loss: 0.8792006373405457, accuracy: 0.6133333333333333\n",
      "New set of weights found, iteration: 688, loss: 0.8772943019866943, accuracy: 0.5933333333333334\n",
      "New set of weights found, iteration: 712, loss: 0.8722810745239258, accuracy: 0.58\n",
      "New set of weights found, iteration: 895, loss: 0.8669043183326721, accuracy: 0.36666666666666664\n",
      "New set of weights found, iteration: 901, loss: 0.8610658645629883, accuracy: 0.36666666666666664\n",
      "New set of weights found, iteration: 970, loss: 0.8590275049209595, accuracy: 0.39\n"
     ]
    }
   ],
   "source": [
    "X, y = vertical_data(samples=100, classes=3)\n",
    "\n",
    "dense1 = Dense(2, 3)\n",
    "relu = ReLU()\n",
    "dense2 = Dense(3, 3)\n",
    "softmax = Softmax()\n",
    "\n",
    "loss_fn = CategoricalCrossentropy()\n",
    "\n",
    "lowest_loss = 999999\n",
    "best_dense1_weights = dense1.weights.copy()\n",
    "best_dense1_biases = dense1.biases.copy()\n",
    "best_dense2_weights = dense2.weights.copy()\n",
    "best_dense2_biases = dense2.biases.copy()\n",
    "\n",
    "for iteration in range(1000):\n",
    "    dense1.weights += 0.05 * np.random.randn(2, 3)\n",
    "    dense1.biases += 0.05 * np.random.randn(1, 3)\n",
    "    dense2.weights += 0.05 * np.random.randn(3, 3)\n",
    "    dense2.biases = 0.05 * np.random.randn(1, 3)\n",
    "\n",
    "    dense1.forward(X)\n",
    "    relu.forward(dense1.output)\n",
    "    dense2.forward(relu.output)\n",
    "    softmax.forward(dense2.output)\n",
    "\n",
    "    loss = loss_fn.calculate(softmax.output, y)\n",
    "    predictions = np.argmax(softmax.output, axis = 1)\n",
    "    accuracy = np.mean(predictions==y)\n",
    "\n",
    "    if loss < lowest_loss:\n",
    "        print(f'New set of weights found, iteration: {iteration}, loss: {loss}, accuracy: {accuracy}')\n",
    "        best_dense1_weights = dense1.weights.copy()\n",
    "        best_dense1_biases = dense1.biases.copy()\n",
    "        best_dense2_weights = dense2.weights.copy()\n",
    "        best_dense2_biases = dense2.biases.copy()\n",
    "        lowest_loss = loss\n",
    "    else:\n",
    "        dense1.weights = best_dense1_weights.copy()\n",
    "        dense1.biases = best_dense1_biases.copy()\n",
    "        dense2.weights = best_dense2_weights.copy()\n",
    "        dense2.biases = best_dense2_biases.copy()"
   ]
  },
  {
   "cell_type": "markdown",
   "id": "suspended-triumph",
   "metadata": {},
   "source": [
    "# Derivatives\n",
    "Randomly changing and searching for optimal weights and biases did not prove fruitful for one main reason: the number of possible combinations of weights and biases is infinite, and we need something smarter than pure luck to achieve any succecss. Each weights and bias may also have different degrees of influence on the loss - this influence depends on the parameters themselves as well as on the current sample, which is an input to the first layer. these input values are then mulitplied by the weights, so the input data affects the neuron's output and affects the impact that the weights make on the loss. The same principle applies to the biases and parameters in the next layers, taking the previous layer's outputs as inputs. This means that the impact on the output values depends on the parameters as well as the samples - which is why we are calculating the loss values per each sample separately. Finally, the function of how a weight or bias impacts the overall loss os not necessarily linear. In order to know how to adjust weights and biases, we first need to understand their impact on the loss.\n",
    "\n",
    "Our goal is to decrease a loss, and we'll do this by using *gradient descent*. Gradient, on the other hand, is a result of the calculation of the partial derivatives, and we'll backpropagate it using the chain rule to update all of the weights and bisaes.\n",
    "\n",
    "Calculus proposes that we measure the slope of the tangent line at x giving us the instantaneous slope, which is the derivative. The tangent line is created by drawing a line between two infinitely close on a curve, but this curve has to be differentiable at the derivation point. This means that it has to be continuous and smooth. Then, because this is a curve, there is no single slope. Slope depends on where we measure it. To give an immediate example, we can approximate a derivative of the function at x by using this point and another one also taken at x, but with a very small delta added to it, such as 0.0001. This number is a common choice as it does not introduce too large an error or cause the whole expression to be numerically unstable. This lets us perform the same calculation for the slope but on two points that are very close to each other, resulting in a good approximation of the slope."
   ]
  },
  {
   "cell_type": "code",
   "execution_count": 41,
   "id": "seventh-concentration",
   "metadata": {},
   "outputs": [
    {
     "name": "stdout",
     "output_type": "stream",
     "text": [
      "2.0\n"
     ]
    }
   ],
   "source": [
    "def f(x):\n",
    "    return 2 * x\n",
    "\n",
    "x1 = 1\n",
    "x2 = x1 + 0.0001\n",
    "\n",
    "y1 = f(x1)\n",
    "y2 = f(x2)\n",
    "\n",
    "approximate_derivative = (y2 - y1) / (x2 - x1)\n",
    "print(approximate_derivative)"
   ]
  },
  {
   "cell_type": "markdown",
   "id": "provincial-connecticut",
   "metadata": {},
   "source": [
    "# The Numerical Derivative\n",
    "This method of calculating the derivative is called **numerical differentiation** - calculating the slope of the tangent line using two infinitely close points, or as with the code solution - calculating the slope of a tangent linemade from two points that were 'sufficiently close'. Let's visualize the tangent line and how they change depending on where we calculate them. To begin, we'll make the graph of this function more granular using NumPy's arange(), allowing us to plot with smaller steps."
   ]
  },
  {
   "cell_type": "code",
   "execution_count": 42,
   "id": "hungry-convention",
   "metadata": {},
   "outputs": [
    {
     "data": {
      "image/png": "[encoded data removed]",
      "text/plain": [
       "<Figure size 432x288 with 1 Axes>"
      ]
     },
     "metadata": {
      "needs_background": "light"
     },
     "output_type": "display_data"
    }
   ],
   "source": [
    "def f(x):\n",
    "    return 2*x**2\n",
    "\n",
    "x = np.arange(0, 5, 0.001)\n",
    "y = f(x)\n",
    "plt.plot(x, y)\n",
    "plt.show()"
   ]
  },
  {
   "cell_type": "markdown",
   "id": "subsequent-riding",
   "metadata": {},
   "source": [
    "To draw these tangent lines, we will derive the function for the tangent line at a point and plot the tangent on the graph at this point. The function for a straight line is *y = mx + b*. Where m is the slope or the approximate derivative that we've already calculated. And x is the input which leaves b, or the y-intercept, for us to calculate. The slope remains unchanged, but currently, you can 'move' the line up or down using the y-intercept. The point we want to calculate te derivative at and the 'close enough' to it point to calculate the approximation of the derivative. Now, given the above equation for b, the approximation of the derivative and the same 'clos enough' point, we can substitute them in the equation and get the y-intercept for the tangent line at the derivative point using ```b = y2 - approximate_derivative * x2```"
   ]
  },
  {
   "cell_type": "code",
   "execution_count": 45,
   "id": "piano-handling",
   "metadata": {},
   "outputs": [
    {
     "name": "stdout",
     "output_type": "stream",
     "text": [
      "(2, 8) (2.0001, 8.000800020000002)\n",
      "Approximate derivative for f(x) : where x = 2 is 8.000199999998785\n"
     ]
    },
    {
     "data": {
      "image/png": "[encoded data removed]",
      "text/plain": [
       "<Figure size 432x288 with 1 Axes>"
      ]
     },
     "metadata": {
      "needs_background": "light"
     },
     "output_type": "display_data"
    }
   ],
   "source": [
    "def f(x):\n",
    "    return 2*x**2\n",
    "\n",
    "X = np.arange(0, 5, 0.001)\n",
    "y = f(x)\n",
    "\n",
    "plt.plot(x, y)\n",
    "\n",
    "x1 = 2\n",
    "x2 = x1 + 0.0001\n",
    "\n",
    "y1 = f(x1)\n",
    "y2 = f(x2)\n",
    "print((x1, y1), (x2, y2))\n",
    "\n",
    "approximate_derivative = (y2 - y1) / (x2 - x1)\n",
    "b = y2 - approximate_derivative*x2\n",
    "\n",
    "def tangent_line(x):\n",
    "    return approximate_derivative*x + b\n",
    "\n",
    "to_plot = [x1-0.9, x1, x1+0.9]\n",
    "plt.plot(to_plot, [tangent_line(i) for i in to_plot])\n",
    "\n",
    "print(f'Approximate derivative for f(x) : where x = {x1} is {approximate_derivative}')\n",
    "plt.show()"
   ]
  },
  {
   "cell_type": "code",
   "execution_count": 47,
   "id": "gross-mineral",
   "metadata": {},
   "outputs": [
    {
     "name": "stdout",
     "output_type": "stream",
     "text": [
      "(0, 0) (0.0001, 2e-08)\n",
      "Approximate Derivative for f(x) where x = 0 is 0.00019999999999999998\n",
      "(1, 2) (1.0001, 2.00040002)\n",
      "Approximate Derivative for f(x) where x = 1 is 4.0001999999987845\n",
      "(2, 8) (2.0001, 8.000800020000002)\n",
      "Approximate Derivative for f(x) where x = 2 is 8.000199999998785\n",
      "(3, 18) (3.0001, 18.001200020000002)\n",
      "Approximate Derivative for f(x) where x = 3 is 12.000199999998785\n",
      "(4, 32) (4.0001, 32.00160002)\n",
      "Approximate Derivative for f(x) where x = 4 is 16.000200000016548\n"
     ]
    },
    {
     "data": {
      "image/png": "[encoded data removed]",
      "text/plain": [
       "<Figure size 432x288 with 1 Axes>"
      ]
     },
     "metadata": {
      "needs_background": "light"
     },
     "output_type": "display_data"
    }
   ],
   "source": [
    "def f(x):\n",
    "    return 2*x**2\n",
    "\n",
    "x = np.array(np.arange(0, 5, 0.001))\n",
    "y = f(x)\n",
    "\n",
    "plt.plot(x, y)\n",
    "colors = ['k', 'g', 'r', 'b', 'c']\n",
    "\n",
    "def approximate_tangent_line(x, approximate_derivative):\n",
    "    return (approximate_derivative * x) + b\n",
    "\n",
    "for i in range(5):\n",
    "    x1 = i\n",
    "    x2 = x1 + 0.0001\n",
    "    \n",
    "    y1 = f(x1)\n",
    "    y2 = f(x2)\n",
    "    \n",
    "    print((x1, y1), (x2, y2))\n",
    "    \n",
    "    approximate_derivative = (y2 - y1) / (x2 - x1)\n",
    "    b = y2 - (approximate_derivative * x2)\n",
    "    \n",
    "    to_plot = [x1 - 0.9, x1, x1 + 0.9]\n",
    "    plt.scatter(x1, y1, c=colors[i])\n",
    "    plt.plot([point for point in to_plot],\n",
    "             [approximate_tangent_line(point, approximate_derivative) for point in to_plot],\n",
    "             c = colors[i])\n",
    "    \n",
    "    print(f'Approximate Derivative for f(x) where x = {x1} is {approximate_derivative}')\n",
    "    \n",
    "plt.show()"
   ]
  },
  {
   "cell_type": "markdown",
   "id": "informed-directory",
   "metadata": {},
   "source": [
    "The problem is that the actual function employed in our neural network is not so simple. The loss function contains all of the layers, weights, and biases - it's an absolutely massive function operating in multiple dimensions. Calculating derivatives using numerical differentiation required multiple forward passes for a single parameter update. We need to perform the forward pass as a reference, then update a single parameter by the delta value and perform the forward pass through the model again to see the change of the loss value. Next, we need to calculate the derivative and revert the parameter change that we made for this calculation. We have to repeat this for every weight andbias and for every sample, which will be very time-consuming. We can also think of this method as brute-forcing the derivative calculations. To reiterate, as we quickly covered many terms, the derivative is the slop of the tangent line for a functon that takes a single parameter as an input. We'll use the ability to calculate the slops of the loss functoin at each of the weight and bias points - this brings us to the multivariate function, which is a function that takes multiple parameters and performs partial derivative.\n",
    "\n",
    "# Gradients, Partial Derivatives and the Chain Rule\n",
    "\n",
    "### Partial Derivative\n",
    "The partial derivative measure how much impact a single input has on a function's output. The method for calculating a partial derivative is the same as for derivatives; we simply have to repeat the process for each of the independent inputs. Each of the function's input has some impact on this function's output, even if the impact is 0. We still need to know these impactsl this means that we have to calculate the derivative with respect to each input separately to learn about each of them. That's why these are known as partial derivatives with respect to the given input - we are calculating a partial of the derivatives, related to a singular input. The partial derivative of a single equation, and the full multivariate function's derivative consists of a set of equation called the gradient.\n",
    "\n",
    "### Gradients\n",
    "The *gradient* is a vector of the size of inputs containing the partial derivatives solution with respect to each of the inputs. It's a vector of all the possible partial derivatives of the function, and we denote it using the *nabla* symbol that looks like inverted delta symbol. We'll be using derivatives of single-parameter functions and gradients of multivariate functions to perform gradient descent using the chain rule. \n",
    "\n",
    "### Chain Rule\n",
    "During the forward pass, we're passing the data through the neurons, then through the activation function, then through the neurons in the next layer, then through another activation function, and so on. We're calling a function with an input parameter, taking an output andusing that output as an input to another function. Let's take 2 functions: *f* and *g*:\n",
    "\n",
    "*z = f(x)*\n",
    "\n",
    "*y = g(z)*\n",
    "\n",
    "x is the input data, z is the output of the function but also an input for the function g, and y is an output of the function g. We could write the same calculation as: *y = g(f(x))*\n",
    "In this form, we do not use the intermediate z vairable, showing that the function g takes the output of f directly as an input. This does not differ much from the above 2 equations but shows an important property of functions chained this way - since x is an input to the function x and then output of the function f is an input to the function g, the output of the function g is influenced by x in some way, so there must exist a derivative which can inform us of this influence. The forward pass through our model is a chain of functions similar to these examples. We are passing in samples, the data flows through all the layers, and the activation functions to form an output.\n",
    "\n",
    "To calculate the partial derivation of a chain of functions with respect to some parameter, we take the partial derivative of the outer function with respect to the inner function in a chain to the parameter. Then multiply this partial derivative by the partial derivative of the inner function with respect to the more inner function with respect to the other function in the chain. We repeat this all the way down to the parameter in question. The chain rule turns out to be the most important rule for finding the impact of singular input to the output of a chain of functions, which is the calculation of loss in our case. "
   ]
  },
  {
   "cell_type": "markdown",
   "id": "damaged-matthew",
   "metadata": {},
   "source": [
    "# Backpropagation\n",
    "Before applying this a complete neural network, let's start with a simplified forward pass with just one neuron. Rather than backpropagating from the loss function for a full neural network, let's backpropagate the ReLU function for a single neuron and act as if we intend to minimize the output for this single neuron."
   ]
  },
  {
   "cell_type": "code",
   "execution_count": 48,
   "id": "exclusive-quantum",
   "metadata": {},
   "outputs": [
    {
     "name": "stdout",
     "output_type": "stream",
     "text": [
      "-3.0 2.0 6.0 1.0\n",
      "5.0\n",
      "5.0\n"
     ]
    }
   ],
   "source": [
    "x = [1.0, -2.0, 3.0]\n",
    "w = [-3.0, -1.0, 2.0]\n",
    "b = 1.0\n",
    "\n",
    "xw0 = x[0] * w[0]\n",
    "xw1 = x[1] * w[1]\n",
    "xw2 = x[2] * w[2]\n",
    "print(xw0, xw1, xw2, b)\n",
    "\n",
    "z = xw0 + xw1 + xw2\n",
    "print(z)\n",
    "\n",
    "y = max(z, 0)\n",
    "print(y)"
   ]
  },
  {
   "cell_type": "markdown",
   "id": "individual-providence",
   "metadata": {},
   "source": [
    "This is the full forward pass through a single neuron and a ReLU function. Let's treat all of these chained function as one big function which takes input values (x), weights (w), and bias (b), as inputs, and outputs y. This big function consists of multiple simpler function - there is a multiplication of input values and weights, sum of these values and bias, as well as a max function as the ReLU activation - 3 chained functions in total:\n",
    "\n",
    "The first step is to backpropagate our gradients by calculating the derivatives and partial derivatives with respect to each of our parameters and inputs. To do this, we use chain rule. We'll have multiple chained layers of neurons in our model, followed by the loss function. We want to know the impact of a given weight or bias on the loss. That means that we will have to calculate the derivative of the loss function and apply the chain rule with the derivatives of all activation functions and neurons in all of the consecutive layers. The derivative with respect to the layer's inputs, as opposed to the derivative with respect to the weights and biases, is not used to update any parameters. Instead, it is used to chain to another layer.\n",
    "\n",
    "During the backward pass, we'll calculate the derivative of the loss function, and use it to multiply with the derivative of the activation functions. Inside these layers, the derivative with respect to the weights and biases will form the gradient to chain with the previous layer. This layer can calculate the impact of its weights and biases on the loss and backpropagate gradients on inputs further.\n",
    "\n",
    "The derivative of ReLU with respect to its inputs is 1, if the input is greater than 0, and 0 otherwise."
   ]
  },
  {
   "cell_type": "code",
   "execution_count": 49,
   "id": "recreational-tomato",
   "metadata": {},
   "outputs": [],
   "source": [
    "relu_dz = (1.0 if z > 0 else 0.0)"
   ]
  },
  {
   "cell_type": "code",
   "execution_count": 52,
   "id": "inclusive-sudan",
   "metadata": {},
   "outputs": [
    {
     "name": "stdout",
     "output_type": "stream",
     "text": [
      "1.0\n",
      "1.0 1.0 1.0 1.0\n"
     ]
    }
   ],
   "source": [
    "x = [1.0, -2.0, 3.0]\n",
    "w = [-3.0, -1.0, 2.0]\n",
    "b = 1.0\n",
    "\n",
    "xw0 = x[0] * w[0]\n",
    "xw1 = x[1] * w[1]\n",
    "xw2 = x[2] * w[2]\n",
    "\n",
    "z = xw0 + xw1 + xw2\n",
    "y = max(z, 0)\n",
    "\n",
    "dvalue = 1.0\n",
    "\n",
    "drelu_dz = dvalue * (1.0 if z > 0 else 0.0)\n",
    "print(drelu_dz)\n",
    "\n",
    "dsum_dxw0 = 1\n",
    "dsum_dxw1 = 1\n",
    "dsum_dxw2 = 1\n",
    "dsum_db = 1\n",
    "drelu_dxw0 = drelu_dz * dsum_dxw0\n",
    "drelu_dxw1 = drelu_dz * dsum_dxw1\n",
    "drelu_dxw2 = drelu_dz * dsum_dxw2\n",
    "drelu_db = drelu_dz * dsum_db\n",
    "\n",
    "print(drelu_dxw0, drelu_dxw1, drelu_dxw2, drelu_db)"
   ]
  },
  {
   "cell_type": "code",
   "execution_count": 53,
   "id": "daily-register",
   "metadata": {},
   "outputs": [
    {
     "name": "stdout",
     "output_type": "stream",
     "text": [
      "-3.0\n"
     ]
    }
   ],
   "source": [
    "\"\"\"\n",
    "The partial derivative of f with respect to x equals y. The partial derivative of f \n",
    "with respect to y equals x. Following this relu, the partial derivative of the first\n",
    "weighted input with respect to the input equals the weight. Then, we have to apply the\n",
    "chain rule and multiply this partial derivative with the partial derivative of the subsequent\n",
    "function, which is the weighted sum.\n",
    "\"\"\"\n",
    "\n",
    "dmul_dx0 = w[0]\n",
    "drelu_dx0 = drelu_dxw0 * dmul_dx0\n",
    "print(drelu_dx0)"
   ]
  },
  {
   "cell_type": "code",
   "execution_count": 55,
   "id": "hawaiian-freight",
   "metadata": {},
   "outputs": [
    {
     "name": "stdout",
     "output_type": "stream",
     "text": [
      "1.0\n",
      "1.0 1.0 1.0 1.0\n",
      "-3.0 1.0 -1.0 -2.0 2.0 3.0\n"
     ]
    }
   ],
   "source": [
    "x = [1.0, -2.0, 3.0]\n",
    "w = [-3.0, -1.0, 2.0]\n",
    "b = 1.0\n",
    "\n",
    "xw0 = x[0] * w[0]\n",
    "xw1 = x[1] * w[1]\n",
    "xw2 = x[2] * w[2]\n",
    "\n",
    "z = xw0 + xw1 + xw2\n",
    "y = max(z, 0)\n",
    "\n",
    "dvalue = 1.0\n",
    "\n",
    "drelu_dz = dvalue * (1.0 if z > 0 else 0.0)\n",
    "print(drelu_dz)\n",
    "\n",
    "dsum_dxw0 = 1\n",
    "dsum_dxw1 = 1\n",
    "dsum_dxw2 = 1\n",
    "dsum_db = 1\n",
    "drelu_dxw0 = drelu_dz * dsum_dxw0\n",
    "drelu_dxw1 = drelu_dz * dsum_dxw1\n",
    "drelu_dxw2 = drelu_dz * dsum_dxw2\n",
    "drelu_db = drelu_dz * dsum_db\n",
    "\n",
    "print(drelu_dxw0, drelu_dxw1, drelu_dxw2, drelu_db)\n",
    "\n",
    "dmul_dx0 = w[0]\n",
    "dmul_dx1 = w[1]\n",
    "dmul_dx2 = w[2]\n",
    "dmul_dw0 = x[0]\n",
    "dmul_dw1 = x[1]\n",
    "dmul_dw2 = x[2]\n",
    "drelu_dx0 = drelu_dxw0 * dmul_dx0\n",
    "drelu_dw0 = drelu_dxw0 * dmul_dw0\n",
    "drelu_dx1 = drelu_dxw1 * dmul_dx1\n",
    "drelu_dw1 = drelu_dxw1 * dmul_dw1\n",
    "drelu_dx2 = drelu_dxw2 * dmul_dx2\n",
    "drelu_dw2 = drelu_dxw2 * dmul_dw2\n",
    "\n",
    "print(drelu_dx0, drelu_dw0, drelu_dx1, drelu_dw1, drelu_dx2, drelu_dw2)"
   ]
  },
  {
   "cell_type": "code",
   "execution_count": 56,
   "id": "killing-stations",
   "metadata": {},
   "outputs": [],
   "source": [
    "\"\"\"\n",
    "All together, the partial derivatives above, combined into a vector, make up our\n",
    "gradients. Our gradients could be represented as:\n",
    "\"\"\"\n",
    "\n",
    "dx = [drelu_dx0, drelu_dx1, drelu_dx2]\n",
    "dw = [drelu_dw0, drelu_dw1, drelu_dw2]\n",
    "db = drelu_db"
   ]
  },
  {
   "cell_type": "markdown",
   "id": "amended-termination",
   "metadata": {},
   "source": [
    "Continuing the single neuron example, we can now apply these gradients to the weights to hopefully minimize the output. This is typically the purpose of the optimizer, but we can show a simplified version of this task by directly applying a negative fraction of the gradient to our weights. We apply a negative fraction to this gradient since we want to decrease the final output value, and the gradient shows the direction of the steepest ascent."
   ]
  },
  {
   "cell_type": "code",
   "execution_count": 57,
   "id": "intended-nerve",
   "metadata": {},
   "outputs": [
    {
     "name": "stdout",
     "output_type": "stream",
     "text": [
      "[-3.001, -0.998, 1.997] 0.999\n"
     ]
    }
   ],
   "source": [
    "w[0] += -0.001 * dw[0]\n",
    "w[1] += -0.001 * dw[1]\n",
    "w[2] += -0.001 * dw[2]\n",
    "b += -0.001 * db\n",
    "\n",
    "print(w, b)"
   ]
  },
  {
   "cell_type": "markdown",
   "id": "affected-external",
   "metadata": {},
   "source": [
    "Now we've slightly changed the weights and bias in such a way as to decrease the output somewhat intelligently. We can see the effects of our tweaks on the output by doing another forward pass:"
   ]
  },
  {
   "cell_type": "code",
   "execution_count": 58,
   "id": "decent-circle",
   "metadata": {},
   "outputs": [
    {
     "name": "stdout",
     "output_type": "stream",
     "text": [
      "5.985\n"
     ]
    }
   ],
   "source": [
    "xw0 = x[0] * w[0]\n",
    "xw1 = x[1] * w[1]\n",
    "xw2 = x[2] * w[2]\n",
    "\n",
    "z = xw0 + xw1 + xw2 + b\n",
    "y = max(z, 0)\n",
    "print(y)"
   ]
  },
  {
   "cell_type": "markdown",
   "id": "friendly-aggregate",
   "metadata": {},
   "source": [
    "We've successfully decrease this neuron's output from 6 to 5.985. It does not make sense to decrease the neuron's output in a real neural network; we are doing this purely as a simpler exercise than the full network. Ideally we want to decrease the loss value, which is the last calculation in the chain of calculations during the forward pass, and it's the first one to calculate the gradient during the backpropagation. We've minimized the ReLU output of a single neuron only for the purpose of this example to show that we actually managed to decrease the value of chained functions intelligently using the derivatives, partial derivatives, and chain rule. Now, we'll apply the one-neuron example to the list of samples for input, where each sample consists of 4 feaures. For this example, our network will consist of a single hidden layer, containing 3 neurons.\n",
    "\n",
    "A single neuron of the current layer connects to all of them - they all recieve the output of this neuron. What will happen during backpropagation? each neuron from the next layer will return a partial derivative of its function with respect to its input. The neuron in the current layer will recieve a vector consisting of these derivatives. We need this to be a singular value for a singular neuron. To continue backpropagation, we need to sum this vector.\n",
    "\n",
    "Now let's replace the current singular neuron with a layer of neurons. As opposed to a single neuron, a layer outputs a vector of these values instead of a singular value. Each neuron in a layer connectes to all of the neurons in the next layer. During backpropagation, each neuron from the current layer will receive a vector of partial derivatives the same way that we described for a single neuron. With a layer of neurons, it'll take the form of a list of these vectors, or a 2D array. We know that we need to perform a sum, but what should we sum and what is the result supposed to be? Each neuron is going to output a gradient of the partial derivatives with respect to all of its inputs, and all neurons will form a list of these vectors. We need to sum along the inputs, the first input to all of the neurons, the second input, and so on. We'll have to sum columns.\n",
    "\n",
    "To calculate the partial derivates with respect to inputs, we need the weights - the partial derivative with respect to the input equals the related weight. This means that the array of partial derivatives with respect to all of the inputs equals the array of weights. Since this array is transposed, we'll need to sum its rows instead of columns. To apply the chain rule, we need to multiply them by the gradient from the subsequent function."
   ]
  },
  {
   "cell_type": "code",
   "execution_count": 68,
   "id": "antique-producer",
   "metadata": {},
   "outputs": [
    {
     "name": "stdout",
     "output_type": "stream",
     "text": [
      "[ 0.44 -0.38 -0.07  1.37]\n"
     ]
    }
   ],
   "source": [
    "# Passed in gradient from the next layer\n",
    "# for the purpose of this example we're going to use\n",
    "dvalues = np.array([[1.0, 1.0, 1.0]])\n",
    "\n",
    "# We have 3 sets of weights - one set for each neuron\n",
    "# we have 4 inputs, thus 4 weights\n",
    "# recall that we keep the weights TRANSPOSED\n",
    "\n",
    "weights = np.array([[0.2, 0.8, -0.5, 1],\n",
    "                    [0.5, -0.91, 0.26, -0.5],\n",
    "                    [-0.26, -0.27, 0.17, 0.87]]).T\n",
    "\n",
    "dx0 = sum(weights[0]) * dvalues[0]\n",
    "dx1 = sum(weights[1]) * dvalues[0]\n",
    "dx2 = sum(weights[2]) * dvalues[0]\n",
    "dx3 = sum(weights[3]) * dvalues[0]\n",
    "\n",
    "dinputs = np.array([dx0, dx1, dx2, dx3])\n",
    "\n",
    "print(dinputs.T[0])"
   ]
  },
  {
   "cell_type": "code",
   "execution_count": 69,
   "id": "inside-binding",
   "metadata": {},
   "outputs": [
    {
     "name": "stdout",
     "output_type": "stream",
     "text": [
      "[ 0.44 -0.38 -0.07  1.37]\n"
     ]
    }
   ],
   "source": [
    "# Simplifying the above calculation with NumPy\n",
    "\n",
    "# Passed in gradient from the next layer\n",
    "# for the purpose of this example we're going to use\n",
    "dvalues = np.array([[1.0, 1.0, 1.0]])\n",
    "\n",
    "# We have 3 sets of weights - one set for each neuron\n",
    "# we have 4 inputs, thus 4 weights\n",
    "# recall that we keep the weights TRANSPOSED\n",
    "\n",
    "weights = np.array([[0.2, 0.8, -0.5, 1],\n",
    "                    [0.5, -0.91, 0.26, -0.5],\n",
    "                    [-0.26, -0.27, 0.17, 0.87]]).T\n",
    "\n",
    "dinputs = np.dot(dvalues[0], weights.T)\n",
    "print(dinputs)"
   ]
  },
  {
   "cell_type": "code",
   "execution_count": 70,
   "id": "upper-january",
   "metadata": {},
   "outputs": [
    {
     "data": {
      "text/plain": [
       "array([[ 0.44, -0.38, -0.07,  1.37],\n",
       "       [ 0.88, -0.76, -0.14,  2.74],\n",
       "       [ 1.32, -1.14, -0.21,  4.11]], dtype=float32)"
      ]
     },
     "execution_count": 70,
     "metadata": {},
     "output_type": "execute_result"
    }
   ],
   "source": [
    "# Handling a batch of samples with NumPy\n",
    "dvalues = np.array([[1., 1., 1.],\n",
    "                    [2., 2., 2.],\n",
    "                    [3., 3., 3.]])\n",
    "\n",
    "weights = np.array([[0.2, 0.8, -0.5, 1],\n",
    "                    [0.5, -0.91, 0.26, -0.5],\n",
    "                    [-0.26, -0.27, 0.17, 0.87]]).T\n",
    "\n",
    "dinputs = np.dot(dvalues, weights.T)\n",
    "dinputs"
   ]
  },
  {
   "cell_type": "markdown",
   "id": "potential-idaho",
   "metadata": {},
   "source": [
    "Calculating the gradients with respect to weights is very similar, but, in this case, we're going to be using the gradients to update the weights, so we need to match the shape of weights, not inputs. Since the derivative with respect to the weights equal inputs, weights are transponsed, so we need to transpose the inputs as the first parameter to the dot product - The dot product is going to multiply rows by inputs, where each row, as it is transposed, contains data for a given input for all of the samples, bu the columns of dvalues. These columns are related to the outputs of singular neurons for all of the samples, so the result will contain an array with the shape of the weights, containing the gradients with respect to the inputs, multiplied with the incoming gradient for all of the samples in the batch:"
   ]
  },
  {
   "cell_type": "code",
   "execution_count": 71,
   "id": "emerging-disease",
   "metadata": {},
   "outputs": [
    {
     "name": "stdout",
     "output_type": "stream",
     "text": [
      "[[ 0.5  0.5  0.5]\n",
      " [20.1 20.1 20.1]\n",
      " [10.9 10.9 10.9]\n",
      " [ 4.1  4.1  4.1]]\n"
     ]
    }
   ],
   "source": [
    "dvalues = np.array([[1., 1., 1.],\n",
    "                    [2., 2., 2.],\n",
    "                    [3., 3., 3.]])\n",
    "\n",
    "# We have 3 sets of inputs\n",
    "inputs = np.array([[1, 2, 3, 2.5],\n",
    "                   [2., 5., -1., 2],\n",
    "                   [-1.5, 2.7, 3.3, -0.8]])\n",
    "\n",
    "dweights = np.dot(inputs.T, dvalues)\n",
    "print(dweights)"
   ]
  },
  {
   "cell_type": "code",
   "execution_count": 72,
   "id": "liked-austria",
   "metadata": {},
   "outputs": [
    {
     "name": "stdout",
     "output_type": "stream",
     "text": [
      "[[6. 6. 6.]]\n"
     ]
    }
   ],
   "source": [
    "biases = np.array([2, 3, 0.5])\n",
    "dbiases = np.sum(dvalues, axis = 0, keepdims=True)\n",
    "print(dbiases)"
   ]
  },
  {
   "cell_type": "code",
   "execution_count": 73,
   "id": "modular-prime",
   "metadata": {},
   "outputs": [
    {
     "name": "stdout",
     "output_type": "stream",
     "text": [
      "[[1 1 0 0]\n",
      " [1 0 0 1]\n",
      " [0 1 1 0]]\n",
      "[[ 1  2  0  0]\n",
      " [ 5  0  0  8]\n",
      " [ 0 10 11  0]]\n"
     ]
    }
   ],
   "source": [
    "# Example layer output\n",
    "z = np.array([[1, 2, -3, -4],\n",
    "              [2, -7, -1, 3],\n",
    "              [-1, 2, 5, -1]])\n",
    "\n",
    "dvalues = np.array([[1, 2, 3, 4],\n",
    "                    [5, 6, 7, 8],\n",
    "                    [9, 10, 11, 12]])\n",
    "\n",
    "drelu = np.zeros_like(z)\n",
    "drelu[z > 0] = 1\n",
    "\n",
    "print(drelu)\n",
    "\n",
    "drelu *= dvalues\n",
    "print(drelu)"
   ]
  },
  {
   "cell_type": "code",
   "execution_count": 74,
   "id": "mathematical-tamil",
   "metadata": {},
   "outputs": [
    {
     "name": "stdout",
     "output_type": "stream",
     "text": [
      "[[ 1  2  0  0]\n",
      " [ 5  0  0  8]\n",
      " [ 0 10 11  0]]\n"
     ]
    }
   ],
   "source": [
    "drelu = dvalues.copy()\n",
    "drelu[z <= 0] = 0\n",
    "print(drelu)"
   ]
  },
  {
   "cell_type": "code",
   "execution_count": null,
   "id": "indie-backup",
   "metadata": {},
   "outputs": [],
   "source": []
  }
 ],
 "metadata": {
  "kernelspec": {
   "display_name": "Python 3",
   "language": "python",
   "name": "python3"
  },
  "language_info": {
   "codemirror_mode": {
    "name": "ipython",
    "version": 3
   },
   "file_extension": ".py",
   "mimetype": "text/x-python",
   "name": "python",
   "nbconvert_exporter": "python",
   "pygments_lexer": "ipython3",
   "version": "3.8.3"
  }
 },
 "nbformat": 4,
 "nbformat_minor": 5
}
